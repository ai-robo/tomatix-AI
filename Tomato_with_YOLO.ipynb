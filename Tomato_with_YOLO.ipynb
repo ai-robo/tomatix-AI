{
  "nbformat": 4,
  "nbformat_minor": 0,
  "metadata": {
    "colab": {
      "provenance": [],
      "gpuType": "T4"
    },
    "kernelspec": {
      "name": "python3",
      "display_name": "Python 3"
    },
    "language_info": {
      "name": "python"
    },
    "accelerator": "GPU"
  },
  "cells": [
    {
      "cell_type": "code",
      "execution_count": null,
      "metadata": {
        "id": "ESQXaG_z2hvT"
      },
      "outputs": [],
      "source": [
        "# Устанавливаем YOLO\n",
        "!pip install ultralytics"
      ]
    },
    {
      "cell_type": "code",
      "source": [
        "import gdown\n",
        "from ultralytics import YOLO"
      ],
      "metadata": {
        "id": "EG6EJzRj2u0y"
      },
      "execution_count": null,
      "outputs": []
    },
    {
      "cell_type": "code",
      "source": [
        "# Скачиваем датасет\n",
        "url = 'https://drive.google.com/uc?export=download&confirm=no_antivirus&id=1hUcznr6ot9qrS-l2JbWhYGFnIY52fkca'\n",
        "gdown.download(url, '/content/')"
      ],
      "metadata": {
        "id": "koSoJMZr2wG8"
      },
      "execution_count": null,
      "outputs": []
    },
    {
      "cell_type": "code",
      "source": [
        "# Создаем директорию /content/data и распаковываем в нее датасет\n",
        "!mkdir /content/data\n",
        "!unzip /content/Tomato_leaf_diseases.zip -d /content/data/"
      ],
      "metadata": {
        "id": "pyFO50wg4Lz0"
      },
      "execution_count": null,
      "outputs": []
    },
    {
      "cell_type": "code",
      "source": [
        "# Устанавливаем модуль split-folders для того, чтобы разбить все фото на две группы: для обучения и для валидации\n",
        "!pip install split-folders"
      ],
      "metadata": {
        "id": "lZ8rRl2k6nsN"
      },
      "execution_count": null,
      "outputs": []
    },
    {
      "cell_type": "code",
      "source": [
        "# Разбиваем все фото на две группы: для обучения берем 75% фото, для валидации - 25%\n",
        "import splitfolders\n",
        "input_folder = \"/content/data/\"\n",
        "!mkdir /content/split-data/\n",
        "output = \"/content/split-data/\"\n",
        "\n",
        "splitfolders.ratio(input_folder, output=output, seed=42, ratio=(.75, .25,))"
      ],
      "metadata": {
        "id": "5m8Di8uX6u1O"
      },
      "execution_count": null,
      "outputs": []
    },
    {
      "cell_type": "code",
      "source": [
        "# Будем использовать предобученную модель yolov8n-cls.pt\n",
        "model = YOLO('yolov8n-cls.pt')"
      ],
      "metadata": {
        "id": "Ka8ZS4xe2-XN"
      },
      "execution_count": null,
      "outputs": []
    },
    {
      "cell_type": "code",
      "source": [
        "# Дообучаем эту модель на наших данных\n",
        "results = model.train(data=\"/content/split-data\", epochs=20, imgsz=224, patience=5)"
      ],
      "metadata": {
        "id": "5NCFxQ7r5NYr"
      },
      "execution_count": null,
      "outputs": []
    }
  ]
}